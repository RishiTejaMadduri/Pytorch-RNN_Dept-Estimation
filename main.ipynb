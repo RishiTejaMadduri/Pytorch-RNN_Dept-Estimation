{
 "cells": [
  {
   "cell_type": "code",
   "execution_count": 4,
   "metadata": {},
   "outputs": [],
   "source": [
    "import os\n",
    "import sys\n",
    "import argparse\n",
    "# from rnn_depth trainer import *\n",
    "os.environ[\"CUDA_VISIBLE_DEVICES\"]=\"0\""
   ]
  },
  {
   "cell_type": "code",
   "execution_count": null,
   "metadata": {},
   "outputs": [],
   "source": [
    "def get_available_gpus():\n",
    "    local_de"
   ]
  },
  {
   "cell_type": "code",
   "execution_count": null,
   "metadata": {},
   "outputs": [],
   "source": []
  },
  {
   "cell_type": "code",
   "execution_count": 2,
   "metadata": {},
   "outputs": [],
   "source": [
    "def main():\n",
    "    parser = argparse.ArgumentParser(description = \"Train RNN Depth\")\n",
    "    parser.add_argument(\"--dataset_dir\", type= str, default=\"\")\n",
    "    parser.add_argument(\"--checkpoint_dir\", type=str, default=\"\")\n",
    "    parser.add_argument(\"--continue_train\", type = bool, default= \"false\")\n",
    "    parser.add_argument(\"--eval_set_dir\", type=str, default=None, help=\"The path to the evaluation directory\")\n",
    "    parser.add_argument(\"--num_epochs\", type=int, default=20, help=\"The number of training epochs\")\n",
    "    parser.add_argument(\"--summary_freq\", type=int, default=100, help=\"The frequence to summarize and save model\")\n",
    "    parser.add_argument(\"--eval_freq\", type=int, default=1000, help=\"The frequence to evaluate model\")\n",
    "    parser.add_argument(\"--save_latest_freq\", type=int, default=5000, help=\"The frequence to save model\")\n",
    "\n",
    "    args = None\n",
    "    try:\n",
    "        args = parser.parse_args()\n",
    "        print(args)\n",
    "    except:\n",
    "        return 1\n",
    "    \n",
    "    # Initialize trainer object\n",
    "    m_trainer = RNN_depth_trainer()\n",
    "\n",
    "    # Initialize data loading object\n",
    "    dataLoader = m_trainer.initDataloader(args.dataset_dir, num_epochs=args.num_epochs)\n",
    "\n",
    "    if args.eval_set_dir is not None:\n",
    "        eval_dataLoader = m_trainer.initDataloader(args.eval_set_dir, num_epochs=None,is_training=False)\n"
   ]
  }
 ],
 "metadata": {
  "kernelspec": {
   "display_name": "Python 3",
   "language": "python",
   "name": "python3"
  },
  "language_info": {
   "codemirror_mode": {
    "name": "ipython",
    "version": 3
   },
   "file_extension": ".py",
   "mimetype": "text/x-python",
   "name": "python",
   "nbconvert_exporter": "python",
   "pygments_lexer": "ipython3",
   "version": "3.6.9"
  }
 },
 "nbformat": 4,
 "nbformat_minor": 4
}
