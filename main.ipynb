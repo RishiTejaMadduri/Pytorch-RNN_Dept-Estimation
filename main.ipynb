{
 "cells": [
  {
   "cell_type": "code",
   "execution_count": 3,
   "metadata": {},
   "outputs": [],
   "source": [
    "import os\n",
    "import sys\n",
    "import argparse\n",
    "# from rnn_depth trainer import *\n",
    "os.environ[\"CUDA_VISIBLE_DEVICES\"]=\"0\""
   ]
  },
  {
   "cell_type": "code",
   "execution_count": 4,
   "metadata": {},
   "outputs": [],
   "source": [
    "def get_available_gpus():\n",
    "    local_de"
   ]
  },
  {
   "cell_type": "code",
   "execution_count": null,
   "metadata": {},
   "outputs": [],
   "source": []
  },
  {
   "cell_type": "code",
   "execution_count": 5,
   "metadata": {},
   "outputs": [],
   "source": [
    "def main():\n",
    "    parser = argparse.ArgumentParser(description = \"Train RNN Depth\")\n",
    "    parser.add_argument(\"--dataset_dir\", type= str, default=\"\")\n",
    "    parser.add_argument(\"--checkpoint_dir\", type=str, default=\"\")\n",
    "    parser.add_argument(\"--continue_train\", type = bool, default= \"false\")\n",
    "    parser.add_argument(\"--eval_set_dir\", type=str, default=None, help=\"The path to the evaluation directory\")\n",
    "    parser.add_argument(\"--num_epochs\", type=int, default=20, help=\"The number of training epochs\")\n",
    "    parser.add_argument(\"--summary_freq\", type=int, default=100, help=\"The frequence to summarize and save model\")\n",
    "    parser.add_argument(\"--eval_freq\", type=int, default=1000, help=\"The frequence to evaluate model\")\n",
    "    parser.add_argument(\"--save_latest_freq\", type=int, default=5000, help=\"The frequence to save model\")\n",
    "\n",
    "    args = None\n",
    "    try:\n",
    "        args = parser.parse_args()\n",
    "        print(args)\n",
    "    except:\n",
    "        return 1\n",
    "    \n",
    "    # Initialize trainer object\n",
    "    m_trainer = rnn_depth_trainer()\n",
    "\n",
    "    # Initialize data loading object\n",
    "    dataLoader = m_trainer.initDataloader(args.dataset_dir, num_epochs=args.num_epochs)\n",
    "\n",
    "    if args.eval_set_dir is not None:\n",
    "        eval_dataLoader = m_trainer.initDataloader(args.eval_set_dir, num_epochs=None,is_training=False)\n",
    "        \n",
    "    learning_rate = 0.0001\n",
    "    beta = 0.9\n",
    "    \n",
    "    optimizer=optim.Adam(learning_rate, beta)\n",
    "    \n",
    "    data_dict = m_trainer.load_data(dataLoader)\n",
    "    \n",
    "    if args.eval_set_dir is not None:\n",
    "        eval_data_dict = m_trainer.load_data(eval_dataLoader)\n",
    "        data_dict = eval_data_dict\n",
    "    \n",
    "    estimates = m_trainer.construct_model(data_dict)\n",
    "    losses, all_losses, output_dict = m_trainer.compute_loss(estimates, data_dict)\n",
    "    tower_loss.append(losses)\n",
    "    losses.backward()\n",
    "    optimzer.step()\n",
    "    \n"
   ]
  },
  {
   "cell_type": "code",
   "execution_count": 6,
   "metadata": {},
   "outputs": [
    {
     "name": "stderr",
     "output_type": "stream",
     "text": [
      "usage: ipykernel_launcher.py [-h] [--dataset_dir DATASET_DIR]\n",
      "                             [--checkpoint_dir CHECKPOINT_DIR]\n",
      "                             [--continue_train CONTINUE_TRAIN]\n",
      "                             [--eval_set_dir EVAL_SET_DIR]\n",
      "                             [--num_epochs NUM_EPOCHS]\n",
      "                             [--summary_freq SUMMARY_FREQ]\n",
      "                             [--eval_freq EVAL_FREQ]\n",
      "                             [--save_latest_freq SAVE_LATEST_FREQ]\n",
      "ipykernel_launcher.py: error: unrecognized arguments: -f /home/rishi/.local/share/jupyter/runtime/kernel-79ab3902-5921-497e-8bcc-cf49baf77229.json\n"
     ]
    },
    {
     "ename": "SystemExit",
     "evalue": "1",
     "output_type": "error",
     "traceback": [
      "An exception has occurred, use %tb to see the full traceback.\n",
      "\u001b[0;31mSystemExit\u001b[0m\u001b[0;31m:\u001b[0m 1\n"
     ]
    },
    {
     "name": "stderr",
     "output_type": "stream",
     "text": [
      "/home/rishi/.local/lib/python3.6/site-packages/IPython/core/interactiveshell.py:3339: UserWarning: To exit: use 'exit', 'quit', or Ctrl-D.\n",
      "  warn(\"To exit: use 'exit', 'quit', or Ctrl-D.\", stacklevel=1)\n"
     ]
    }
   ],
   "source": [
    "if __name__ == \"__main__\":\n",
    "    sys.exit(main())"
   ]
  },
  {
   "cell_type": "code",
   "execution_count": null,
   "metadata": {},
   "outputs": [],
   "source": []
  }
 ],
 "metadata": {
  "kernelspec": {
   "display_name": "Python 3",
   "language": "python",
   "name": "python3"
  },
  "language_info": {
   "codemirror_mode": {
    "name": "ipython",
    "version": 3
   },
   "file_extension": ".py",
   "mimetype": "text/x-python",
   "name": "python",
   "nbconvert_exporter": "python",
   "pygments_lexer": "ipython3",
   "version": "3.6.9"
  }
 },
 "nbformat": 4,
 "nbformat_minor": 4
}
