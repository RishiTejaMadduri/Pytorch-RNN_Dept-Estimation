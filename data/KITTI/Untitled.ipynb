{
 "cells": [
  {
   "cell_type": "code",
   "execution_count": 2,
   "metadata": {},
   "outputs": [],
   "source": [
    "import pickle"
   ]
  },
  {
   "cell_type": "code",
   "execution_count": 7,
   "metadata": {},
   "outputs": [],
   "source": [
    "keys=['image_seq', 'depth_seq', 'motion_seq', 'intrinsics']\n",
    "EleList=[10,15,20,35]"
   ]
  },
  {
   "cell_type": "code",
   "execution_count": 8,
   "metadata": {},
   "outputs": [],
   "source": [
    "d={}"
   ]
  },
  {
   "cell_type": "code",
   "execution_count": 9,
   "metadata": {},
   "outputs": [],
   "source": [
    "d['image_seq']=EleList[0]\n",
    "d['lol']=EleList[1]\n",
    "d['abc']=EleList[2]"
   ]
  },
  {
   "cell_type": "code",
   "execution_count": 10,
   "metadata": {},
   "outputs": [
    {
     "data": {
      "text/plain": [
       "{'image_seq': 10, 'lol': 15, 'abc': 20}"
      ]
     },
     "execution_count": 10,
     "metadata": {},
     "output_type": "execute_result"
    }
   ],
   "source": [
    "d"
   ]
  },
  {
   "cell_type": "code",
   "execution_count": 4,
   "metadata": {},
   "outputs": [],
   "source": [
    "import numpy as np\n",
    "list_1=[]\n",
    "\n",
    "A=np.random.random((3,3))\n",
    "B=np.random.random((3,3))\n",
    "C=np.random.random((3,3))"
   ]
  },
  {
   "cell_type": "code",
   "execution_count": 6,
   "metadata": {},
   "outputs": [],
   "source": [
    "list_1.append(A)\n",
    "list_1.append(B)\n",
    "list_1.append(C)"
   ]
  },
  {
   "cell_type": "code",
   "execution_count": 7,
   "metadata": {},
   "outputs": [
    {
     "data": {
      "text/plain": [
       "[array([[0.89567715, 0.08131778, 0.23962369],\n",
       "        [0.23026452, 0.84830013, 0.78074879],\n",
       "        [0.13089135, 0.22074189, 0.94665653]]),\n",
       " array([[0.89567715, 0.08131778, 0.23962369],\n",
       "        [0.23026452, 0.84830013, 0.78074879],\n",
       "        [0.13089135, 0.22074189, 0.94665653]]),\n",
       " array([[0.23552773, 0.19169539, 0.87346662],\n",
       "        [0.14761581, 0.41562587, 0.22515409],\n",
       "        [0.87098443, 0.72098065, 0.65466407]]),\n",
       " array([[0.29192634, 0.97728831, 0.40671789],\n",
       "        [0.10825522, 0.55800126, 0.91574982],\n",
       "        [0.31788236, 0.33173455, 0.53540737]])]"
      ]
     },
     "execution_count": 7,
     "metadata": {},
     "output_type": "execute_result"
    }
   ],
   "source": [
    "list_1"
   ]
  },
  {
   "cell_type": "code",
   "execution_count": null,
   "metadata": {},
   "outputs": [],
   "source": []
  }
 ],
 "metadata": {
  "kernelspec": {
   "display_name": "Python 3",
   "language": "python",
   "name": "python3"
  },
  "language_info": {
   "codemirror_mode": {
    "name": "ipython",
    "version": 3
   },
   "file_extension": ".py",
   "mimetype": "text/x-python",
   "name": "python",
   "nbconvert_exporter": "python",
   "pygments_lexer": "ipython3",
   "version": "3.6.9"
  }
 },
 "nbformat": 4,
 "nbformat_minor": 4
}
