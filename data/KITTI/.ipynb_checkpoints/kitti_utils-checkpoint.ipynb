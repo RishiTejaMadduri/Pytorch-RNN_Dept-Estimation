{
 "cells": [
  {
   "cell_type": "code",
   "execution_count": 2,
   "metadata": {},
   "outputs": [],
   "source": [
    "import torch\n",
    "import math\n",
    "import numpy as np\n",
    "import itertools\n",
    "import pykitti\n",
    "import sys\n",
    "from collections import Counter, namedtuple\n",
    "import matplotlib.pyplot as plt\n",
    "import cv2\n",
    "from PIL import Image"
   ]
  },
  {
   "cell_type": "code",
   "execution_count": 5,
   "metadata": {},
   "outputs": [],
   "source": [
    "def depth_read(filename):\n",
    "    # loads depth map D from png file\n",
    "    # and returns it as a numpy array,\n",
    "    # for details see readme.txt\n",
    "    depth_png=np.array(Image.open(filename), dtype=int)\n",
    "    # make sure we have a proper 16bit depth map here.. not 8bit!\n",
    "    assert(np.max(depth_png)>255)\n",
    "    \n",
    "    depth=depth_png.astype(np.float)/256\n",
    "    \n",
    "    depth[depth_png==0]=-1\n",
    "    \n",
    "    return depth"
   ]
  },
  {
   "cell_type": "code",
   "execution_count": null,
   "metadata": {},
   "outputs": [],
   "source": [
    "def long_image_kitti(views, max_views_num):\n",
    "    height=views[0].imgage.shape[0]\n",
    "    widtth=views[0].image.shape[1]\n",
    "    total_width=width*max_views_num\n",
    "    new_im=np.zeros((height,total_width,3), dtype=uint8)\n",
    "    new_motion = np.zeros((4, 4 * max_views_num), dtype=np.float32)\n",
    "    x_offset = 0\n",
    "    RT_offset = 0\n",
    "    "
   ]
  }
 ],
 "metadata": {
  "kernelspec": {
   "display_name": "Python 3",
   "language": "python",
   "name": "python3"
  },
  "language_info": {
   "codemirror_mode": {
    "name": "ipython",
    "version": 3
   },
   "file_extension": ".py",
   "mimetype": "text/x-python",
   "name": "python",
   "nbconvert_exporter": "python",
   "pygments_lexer": "ipython3",
   "version": "3.6.9"
  }
 },
 "nbformat": 4,
 "nbformat_minor": 4
}
