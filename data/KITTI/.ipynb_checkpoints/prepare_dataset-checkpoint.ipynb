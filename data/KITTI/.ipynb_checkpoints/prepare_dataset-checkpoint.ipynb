{
 "cells": [
  {
   "cell_type": "code",
   "execution_count": 1,
   "metadata": {},
   "outputs": [],
   "source": [
    "import os\n",
    "import sys\n",
    "import pickle\n",
    "import argparse\n",
    "from multiprocessing import Pool\n",
    "# from kitti_utils import*"
   ]
  },
  {
   "cell_type": "code",
   "execution_count": 2,
   "metadata": {},
   "outputs": [],
   "source": [
    "parser=parser = argparse.ArgumentParser(description=\"Generating Training Data.\")\n",
    "parser.add_argument(\"--output_dir\", type=str, required=True, help=\"The path to where processed dataset will be stored\")\n",
    "parser.add_argument(\"--kitti_path\", type=str, required=True, help=\"The path to the kitti data directory\")\n",
    "parser.add_argument(\"--depth_path\", type=str, required=True, help=\"The path to the depth_maps data directory\")\n",
    "\n",
    "\n",
    "try:\n",
    "    args=parser.parse_args()\n",
    "    print(args)\n",
    "except:\n",
    "    return 1\n",
    "\n",
    "def main(args):\n",
    "#Not Needed     parser.add_argument(\"--threads\", type=int, default=16, help=\"Number of threads\")\n",
    "    \n",
    "    output_dir=args.output_dir\n",
    "    kitti_path=args.kitti_path\n",
    "    os.makedirs(outputdir,exist_ok=True)\n",
    "#Not Needed      threads=args.threads\n",
    "    \n",
    "#     with open('kitti_train.txt','r') as f:\n",
    "#         sequences=f.read().splitlines()\n",
    "\n",
    "    \n",
    "    args=[]\n",
    "    \n",
    "#     for i, seq_name in enumerate(sequences):\n",
    "#         print(seq_name)\n",
    "    seq_name='2011_09_26_drive_0001_sync'\n",
    "    outfile = os.path.join(outputdir, 'cam3_'+ seq_name + \".pkl\")\n",
    "    args.append((outfile, kitti_path,depth_path, seq_name))\n",
    "\n",
    "    create_samples_from_sequence_kitti(outfile, kitti_path, depth_path, seq_name)\n",
    "        \n",
    "    print('created', sum(created_groups), 'groups')\n",
    "    \n",
    "    return 0"
   ]
  },
  {
   "cell_type": "code",
   "execution_count": null,
   "metadata": {},
   "outputs": [],
   "source": []
  }
 ],
 "metadata": {
  "kernelspec": {
   "display_name": "Python 3",
   "language": "python",
   "name": "python3"
  },
  "language_info": {
   "codemirror_mode": {
    "name": "ipython",
    "version": 3
   },
   "file_extension": ".py",
   "mimetype": "text/x-python",
   "name": "python",
   "nbconvert_exporter": "python",
   "pygments_lexer": "ipython3",
   "version": "3.6.9"
  }
 },
 "nbformat": 4,
 "nbformat_minor": 4
}
