{
 "cells": [
  {
   "cell_type": "code",
   "execution_count": 1,
   "metadata": {},
   "outputs": [],
   "source": [
    "import numpy as np\n",
    "import torch"
   ]
  },
  {
   "cell_type": "code",
   "execution_count": 2,
   "metadata": {},
   "outputs": [],
   "source": [
    "example={}\n",
    "\n",
    "A=np.random.random((3,3))\n",
    "B=np.random.random((3,3))\n",
    "C=np.random.random((3,3))"
   ]
  },
  {
   "cell_type": "code",
   "execution_count": 3,
   "metadata": {},
   "outputs": [],
   "source": [
    "L1=[]\n",
    "L1.append(A)\n",
    "L1.append(B)\n",
    "L1.append(C)"
   ]
  },
  {
   "cell_type": "code",
   "execution_count": 4,
   "metadata": {},
   "outputs": [],
   "source": [
    "example['abc']=L1"
   ]
  },
  {
   "cell_type": "code",
   "execution_count": 5,
   "metadata": {},
   "outputs": [],
   "source": [
    "L2=example['abc']"
   ]
  },
  {
   "cell_type": "code",
   "execution_count": 6,
   "metadata": {},
   "outputs": [
    {
     "data": {
      "text/plain": [
       "3"
      ]
     },
     "execution_count": 6,
     "metadata": {},
     "output_type": "execute_result"
    }
   ],
   "source": [
    "len(L2)"
   ]
  },
  {
   "cell_type": "code",
   "execution_count": 7,
   "metadata": {},
   "outputs": [
    {
     "data": {
      "text/plain": [
       "[array([[0.96788998, 0.23572866, 0.49165912],\n",
       "        [0.85785012, 0.05706541, 0.06313743],\n",
       "        [0.37096634, 0.20293985, 0.82379198]]),\n",
       " array([[0.89153782, 0.45403596, 0.64877285],\n",
       "        [0.162516  , 0.38742425, 0.06881102],\n",
       "        [0.19754112, 0.02378372, 0.50211551]]),\n",
       " array([[0.33655403, 0.89230119, 0.36302043],\n",
       "        [0.29608128, 0.57716532, 0.47751652],\n",
       "        [0.3400301 , 0.90346019, 0.75081406]])]"
      ]
     },
     "execution_count": 7,
     "metadata": {},
     "output_type": "execute_result"
    }
   ],
   "source": [
    "L2"
   ]
  },
  {
   "cell_type": "code",
   "execution_count": 11,
   "metadata": {},
   "outputs": [],
   "source": [
    "data_dict=example.copy()"
   ]
  },
  {
   "cell_type": "code",
   "execution_count": 12,
   "metadata": {},
   "outputs": [
    {
     "data": {
      "text/plain": [
       "{'abc': [array([[0.96788998, 0.23572866, 0.49165912],\n",
       "         [0.85785012, 0.05706541, 0.06313743],\n",
       "         [0.37096634, 0.20293985, 0.82379198]]),\n",
       "  array([[0.89153782, 0.45403596, 0.64877285],\n",
       "         [0.162516  , 0.38742425, 0.06881102],\n",
       "         [0.19754112, 0.02378372, 0.50211551]]),\n",
       "  array([[0.33655403, 0.89230119, 0.36302043],\n",
       "         [0.29608128, 0.57716532, 0.47751652],\n",
       "         [0.3400301 , 0.90346019, 0.75081406]])]}"
      ]
     },
     "execution_count": 12,
     "metadata": {},
     "output_type": "execute_result"
    }
   ],
   "source": [
    "data_dict"
   ]
  },
  {
   "cell_type": "code",
   "execution_count": 27,
   "metadata": {},
   "outputs": [],
   "source": [
    "D=torch.tensor(np.random.rand(1597440))"
   ]
  },
  {
   "cell_type": "code",
   "execution_count": 29,
   "metadata": {},
   "outputs": [],
   "source": [
    "B=torch.reshape(D,(128,4160,3))"
   ]
  },
  {
   "cell_type": "code",
   "execution_count": 21,
   "metadata": {},
   "outputs": [
    {
     "data": {
      "text/plain": [
       "torch.Size([3, 3])"
      ]
     },
     "execution_count": 21,
     "metadata": {},
     "output_type": "execute_result"
    }
   ],
   "source": []
  },
  {
   "cell_type": "code",
   "execution_count": null,
   "metadata": {},
   "outputs": [],
   "source": []
  }
 ],
 "metadata": {
  "kernelspec": {
   "display_name": "Python 3",
   "language": "python",
   "name": "python3"
  },
  "language_info": {
   "codemirror_mode": {
    "name": "ipython",
    "version": 3
   },
   "file_extension": ".py",
   "mimetype": "text/x-python",
   "name": "python",
   "nbconvert_exporter": "python",
   "pygments_lexer": "ipython3",
   "version": "3.6.9"
  }
 },
 "nbformat": 4,
 "nbformat_minor": 4
}
