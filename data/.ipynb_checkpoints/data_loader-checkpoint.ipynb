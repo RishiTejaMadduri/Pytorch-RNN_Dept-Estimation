{
 "cells": [
  {
   "cell_type": "code",
   "execution_count": 1,
   "metadata": {},
   "outputs": [],
   "source": [
    "import torch\n",
    "import numpy as np\n",
    "import os, glob\n",
    "import cv2 as cv"
   ]
  },
  {
   "cell_type": "code",
   "execution_count": 2,
   "metadata": {},
   "outputs": [],
   "source": [
    "def local_normalize_image(img):\n",
    "    gray=cv.cvtColor(img, cv.COLOG_RGB2GRAY)\n",
    "    float_gray=gray.astype(np.float32)/255.0\n",
    "    blur = cv.GaussianBlur(float_gray, (0, 0), sigmaX=2, sigmaY=2)\n",
    "    num = float_gray - blur\n",
    "\n",
    "    blur = cv.GaussianBlur(num*num, (0, 0), sigmaX=20, sigmaY=20)\n",
    "    den = cv.pow(blur, 0.5)+0.0000001\n",
    "\n",
    "    gray = num / den\n",
    "\n",
    "    cv.normalize(gray, dst=gray, alpha=0.0, beta=1.0, norm_type=cv.NORM_MINMAX)\n",
    "\n",
    "    gray = np.concatenate((gray[:,:,np.newaxis],gray[:,:,np.newaxis],gray[:,:,np.newaxis]),axis=2)\n",
    "\n",
    "    return gray"
   ]
  },
  {
   "cell_type": "code",
   "execution_count": null,
   "metadata": {},
   "outputs": [],
   "source": [
    "class DataLoader(object):\n",
    "    \"\"\" Data loading class for training heatmap-attention-padding network\n",
    "\n",
    "    Args:\n",
    "        dataset_dir: Folder contain pkl files files\n",
    "        batch_size: training batch size\n",
    "        image_height, image_width: input image height and width\n",
    "        opt: flags from input parser\n",
    "    \n",
    "    Returns:\n",
    "        new_mask: A gauss smoothed tensor\n",
    "\n",
    "    \"\"\"\n",
    "    def __init__(self, dataset_dir, batch_size, image_height, image_width, num_epochs, num_views):\n",
    "        self.dataset_dir=dataset_dir\n",
    "        self.batch_size=batch_size\n",
    "        self.image_height=image_height\n",
    "        self.image_width=image_width\n",
    "        self.num_epochs = num_epochs\n",
    "        self.num_views = num_views\n",
    "        \n",
    "        "
   ]
  }
 ],
 "metadata": {
  "kernelspec": {
   "display_name": "Python 3",
   "language": "python",
   "name": "python3"
  },
  "language_info": {
   "codemirror_mode": {
    "name": "ipython",
    "version": 3
   },
   "file_extension": ".py",
   "mimetype": "text/x-python",
   "name": "python",
   "nbconvert_exporter": "python",
   "pygments_lexer": "ipython3",
   "version": "3.6.9"
  }
 },
 "nbformat": 4,
 "nbformat_minor": 4
}
